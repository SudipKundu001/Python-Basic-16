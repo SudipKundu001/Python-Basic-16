{
 "cells": [
  {
   "cell_type": "markdown",
   "id": "6b3723fb",
   "metadata": {},
   "source": [
    ">__1. Create a list called years_list, starting with the year of your birth, and each year thereafter until the year of your fifth birthday. For example, if you were born in 1980. the list would be years_list = [1980, 1981, 1982, 1983, 1984, 1985].__"
   ]
  },
  {
   "cell_type": "code",
   "execution_count": 1,
   "id": "75b58c59",
   "metadata": {},
   "outputs": [],
   "source": [
    "years_list = [1992,1993,1994,1995,1996,1997]"
   ]
  },
  {
   "cell_type": "markdown",
   "id": "d6bcb85d",
   "metadata": {},
   "source": [
    ">__2. In which year in years_list was your third birthday? Remember, you were 0 years of age for your first year.__"
   ]
  },
  {
   "cell_type": "code",
   "execution_count": 3,
   "id": "052cb79c",
   "metadata": {},
   "outputs": [
    {
     "data": {
      "text/plain": [
       "1994"
      ]
     },
     "execution_count": 3,
     "metadata": {},
     "output_type": "execute_result"
    }
   ],
   "source": [
    "years_list[2]"
   ]
  },
  {
   "cell_type": "markdown",
   "id": "53a364cf",
   "metadata": {},
   "source": [
    ">__3.In the years list, which year were you the oldest?__"
   ]
  },
  {
   "cell_type": "code",
   "execution_count": 4,
   "id": "0f0a6a94",
   "metadata": {},
   "outputs": [
    {
     "data": {
      "text/plain": [
       "1997"
      ]
     },
     "execution_count": 4,
     "metadata": {},
     "output_type": "execute_result"
    }
   ],
   "source": [
    "years_list[-1]"
   ]
  },
  {
   "cell_type": "markdown",
   "id": "2f39b306",
   "metadata": {},
   "source": [
    ">__4. Make a list called things with these three strings as elements: \"mozzarella\", \"cinderella\", \"salmonella\".__"
   ]
  },
  {
   "cell_type": "code",
   "execution_count": 12,
   "id": "157aac28",
   "metadata": {},
   "outputs": [],
   "source": [
    "things =  [\"mozzarella\", \"cinderella\", \"salmonella\"]"
   ]
  },
  {
   "cell_type": "markdown",
   "id": "af3fda0d",
   "metadata": {},
   "source": [
    ">__5. Capitalize the element in things that refers to a person and then print the list. Did it change the element in the list?__"
   ]
  },
  {
   "cell_type": "code",
   "execution_count": 20,
   "id": "320c7624",
   "metadata": {},
   "outputs": [
    {
     "name": "stdout",
     "output_type": "stream",
     "text": [
      "['MOZZARELLA', 'CINDERELLA', 'SALMONELLA']\n"
     ]
    }
   ],
   "source": [
    "for i in range(len(things)):\n",
    "    things[i] = things[i].upper()\n",
    "    \n",
    "print(things)\n"
   ]
  },
  {
   "cell_type": "code",
   "execution_count": 21,
   "id": "f93a16db",
   "metadata": {},
   "outputs": [
    {
     "name": "stdout",
     "output_type": "stream",
     "text": [
      "['MOZZARELLA', 'CINDERELLA', 'SALMONELLA']\n"
     ]
    }
   ],
   "source": [
    "print(things)"
   ]
  },
  {
   "cell_type": "markdown",
   "id": "3d0aa25f",
   "metadata": {},
   "source": [
    "Yes, it changed the elements in the list"
   ]
  },
  {
   "cell_type": "markdown",
   "id": "c665c570",
   "metadata": {},
   "source": [
    ">__6. Make a surprise list with the elements \"Groucho,\" \"Chico,\" and \"Harpo.\"__"
   ]
  },
  {
   "cell_type": "code",
   "execution_count": 22,
   "id": "913d357f",
   "metadata": {},
   "outputs": [],
   "source": [
    "surprise_list = [\"Groucho\", \"Chico\", \"Harpo\"]"
   ]
  },
  {
   "cell_type": "markdown",
   "id": "0bc593e2",
   "metadata": {},
   "source": [
    ">__7. Lowercase the last element of the surprise list, reverse it, and then capitalize it.__"
   ]
  },
  {
   "cell_type": "code",
   "execution_count": 25,
   "id": "d600e550",
   "metadata": {},
   "outputs": [
    {
     "name": "stdout",
     "output_type": "stream",
     "text": [
      "['groucho', 'chico', 'harpo']\n"
     ]
    }
   ],
   "source": [
    "for i in range(len(surprise_list)):\n",
    "    surprise_list[i] = surprise_list[i].lower()\n",
    "    \n",
    "print(surprise_list)"
   ]
  },
  {
   "cell_type": "code",
   "execution_count": 26,
   "id": "d0677911",
   "metadata": {},
   "outputs": [
    {
     "name": "stdout",
     "output_type": "stream",
     "text": [
      "['GROUCHO', 'CHICO', 'HARPO']\n"
     ]
    }
   ],
   "source": [
    "for i in range(len(surprise_list)):\n",
    "    surprise_list[i] = surprise_list[i].upper()\n",
    "    \n",
    "print(surprise_list)"
   ]
  },
  {
   "cell_type": "markdown",
   "id": "fbe05b46",
   "metadata": {},
   "source": [
    ">__8. Make an English-to-French dictionary called e2f and print it. Here are your starter words: dog is chien, cat is chat, and walrus is morse.__"
   ]
  },
  {
   "cell_type": "code",
   "execution_count": 27,
   "id": "218248e8",
   "metadata": {},
   "outputs": [],
   "source": [
    "e2f = {'dog':'chien', 'cat':'chat','walrus':'morse'}"
   ]
  },
  {
   "cell_type": "markdown",
   "id": "c44f0ceb",
   "metadata": {},
   "source": [
    ">__9. Write the French word for walrus in your three-word dictionary e2f__"
   ]
  },
  {
   "cell_type": "code",
   "execution_count": 30,
   "id": "909fbf53",
   "metadata": {},
   "outputs": [
    {
     "data": {
      "text/plain": [
       "'morse'"
      ]
     },
     "execution_count": 30,
     "metadata": {},
     "output_type": "execute_result"
    }
   ],
   "source": [
    "e2f['walrus']"
   ]
  },
  {
   "cell_type": "markdown",
   "id": "e79bdc41",
   "metadata": {},
   "source": [
    ">__10. Make a French-to-English dictionary called f2e from e2f. Use the items method.__"
   ]
  },
  {
   "cell_type": "code",
   "execution_count": 37,
   "id": "872bddc6",
   "metadata": {},
   "outputs": [
    {
     "name": "stdout",
     "output_type": "stream",
     "text": [
      "{'chien': 'dog', 'chat': 'cat', 'morse': 'walrus'}\n"
     ]
    }
   ],
   "source": [
    "f2e = {}\n",
    "for english, french in e2f.items():\n",
    "    f2e[french] = english\n",
    "    \n",
    "print(f2e)"
   ]
  },
  {
   "cell_type": "markdown",
   "id": "588b11ac",
   "metadata": {},
   "source": [
    ">__11. Print the English version of the French word chien using f2e.__"
   ]
  },
  {
   "cell_type": "code",
   "execution_count": 38,
   "id": "c85c977f",
   "metadata": {},
   "outputs": [
    {
     "data": {
      "text/plain": [
       "'dog'"
      ]
     },
     "execution_count": 38,
     "metadata": {},
     "output_type": "execute_result"
    }
   ],
   "source": [
    "f2e['chien']"
   ]
  },
  {
   "cell_type": "markdown",
   "id": "7d9e7d9b",
   "metadata": {},
   "source": [
    ">__12. Make and print a set of English words from the keys in e2f.__"
   ]
  },
  {
   "cell_type": "code",
   "execution_count": 40,
   "id": "e3ed1765",
   "metadata": {},
   "outputs": [
    {
     "data": {
      "text/plain": [
       "{'cat', 'dog', 'walrus'}"
      ]
     },
     "execution_count": 40,
     "metadata": {},
     "output_type": "execute_result"
    }
   ],
   "source": [
    "set(e2f.keys())"
   ]
  },
  {
   "cell_type": "markdown",
   "id": "74770f0b",
   "metadata": {},
   "source": [
    "  >__13. Make a multilevel dictionary called life. Use these strings for the topmost keys: 'animals', 'plants', and 'other'. Make the 'animals' key refer to another dictionary with the keys 'cats', 'octopi', and 'emus'. Make the 'cats' key refer to a list of strings with the values 'Henri', 'Grumpy', and 'Lucy'. Make all the other keys refer to empty dictionaries.__"
   ]
  },
  {
   "cell_type": "code",
   "execution_count": 51,
   "id": "903a6f98",
   "metadata": {},
   "outputs": [],
   "source": [
    "life = { 'animals' : { 'cats' : [ 'Henri', 'Grumpy', 'Lucy' ], 'octopi' : {}, 'emus' : {}  }, 'plants' : {}, 'other' : {} }\n",
    "\n",
    "\n"
   ]
  },
  {
   "cell_type": "markdown",
   "id": "8c42b2e5",
   "metadata": {},
   "source": [
    ">__14. Print the top-level keys of life.__"
   ]
  },
  {
   "cell_type": "code",
   "execution_count": 47,
   "id": "8dd9b8ae",
   "metadata": {},
   "outputs": [
    {
     "name": "stdout",
     "output_type": "stream",
     "text": [
      "dict_keys(['animals', 'plants', 'other'])\n"
     ]
    }
   ],
   "source": [
    "print(life.keys())"
   ]
  },
  {
   "cell_type": "markdown",
   "id": "33e1eb00",
   "metadata": {},
   "source": [
    ">__15. Print the keys for life['animals'].__"
   ]
  },
  {
   "cell_type": "code",
   "execution_count": 48,
   "id": "d6226a0d",
   "metadata": {},
   "outputs": [
    {
     "name": "stdout",
     "output_type": "stream",
     "text": [
      "{'cats': ['Henri', 'Grumpy', 'Lucy'], 'octopi': {}, 'emus': {}}\n"
     ]
    }
   ],
   "source": [
    "print(life['animals'])"
   ]
  },
  {
   "cell_type": "markdown",
   "id": "c8822d6d",
   "metadata": {},
   "source": [
    ">__16. Print the values for life['animals']['cats']__"
   ]
  },
  {
   "cell_type": "code",
   "execution_count": 50,
   "id": "b06a26ac",
   "metadata": {},
   "outputs": [
    {
     "name": "stdout",
     "output_type": "stream",
     "text": [
      "['Henri', 'Grumpy', 'Lucy']\n"
     ]
    }
   ],
   "source": [
    "print(life['animals']['cats'])"
   ]
  }
 ],
 "metadata": {
  "kernelspec": {
   "display_name": "Python 3",
   "language": "python",
   "name": "python3"
  },
  "language_info": {
   "codemirror_mode": {
    "name": "ipython",
    "version": 3
   },
   "file_extension": ".py",
   "mimetype": "text/x-python",
   "name": "python",
   "nbconvert_exporter": "python",
   "pygments_lexer": "ipython3",
   "version": "3.8.8"
  }
 },
 "nbformat": 4,
 "nbformat_minor": 5
}
